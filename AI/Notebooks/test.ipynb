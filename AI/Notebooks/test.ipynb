{
 "cells": [
  {
   "cell_type": "code",
   "execution_count": 11,
   "metadata": {},
   "outputs": [],
   "source": [
    "import numpy as np\n",
    "from typing import List, Tuple, Callable, Union\n",
    "from ortools.constraint_solver import routing_enums_pb2\n",
    "from ortools.constraint_solver import pywrapcp\n",
    "from ortools.sat.python import cp_model\n",
    "\n",
    "\n",
    "def maximize_accuracy(class_matrix: np.ndarray) -> np.ndarray:\n",
    "    \"\"\"\n",
    "    Maximize number of correct predictions: sum(class_matrix[i, x[i]] for i in range(N))\n",
    "\n",
    "    Parameters\n",
    "    ----------\n",
    "    class_matrix : np.ndarray\n",
    "        2D Numpy array (C, C) of the number of points in each cluster\n",
    "        Element (i, j) is the number of points in cluster i of actual label j\n",
    "\n",
    "    Returns\n",
    "    -------\n",
    "    np.ndarray | None\n",
    "        1D Numpy array of the optimized mapping from predicted cluster index to actual cluster index\n",
    "        If problem is feasible, return the optimized mapping\n",
    "        If the optimization fails, return None\n",
    "    \"\"\"\n",
    "    model = cp_model.CpModel()\n",
    "    C = class_matrix.shape[0]\n",
    "    x = [[model.NewIntVar(0, 1, f'x[{i},{j}]') for j in range(C)] for i in range(C)]\n",
    "\n",
    "    for i in range(C):\n",
    "        model.Add(sum(x[i][j] for j in range(C)) == 1)\n",
    "        model.Add(sum(x[j][i] for j in range(C)) == 1)\n",
    "\n",
    "    model.Maximize(sum(class_matrix[i, j] * x[i][j] for i in range(C) for j in range(C)))\n",
    "\n",
    "    solver = cp_model.CpSolver()\n",
    "    status = solver.Solve(model)\n",
    "\n",
    "    if status == cp_model.OPTIMAL:\n",
    "        result = np.full(C, -1, dtype=int)\n",
    "        for i in range(C):\n",
    "            for j in range(C):\n",
    "                if solver.Value(x[i][j]) == 1:\n",
    "                    result[i] = j\n",
    "        return result\n",
    "    elif status == cp_model.FEASIBLE:\n",
    "        result = np.full(C, -1, dtype=int)\n",
    "        for i in range(C):\n",
    "            for j in range(C):\n",
    "                if solver.Value(x[i][j]) == 1:\n",
    "                    result[i] = j\n",
    "    else:\n",
    "        return None"
   ]
  },
  {
   "cell_type": "code",
   "execution_count": 12,
   "metadata": {},
   "outputs": [
    {
     "name": "stdout",
     "output_type": "stream",
     "text": [
      "[1 2 3 4 0]\n"
     ]
    }
   ],
   "source": [
    "c = np.array([\n",
    "    [125, 256, 332, 120, 15],\n",
    "    [589, 235, 1258, 25, 16],\n",
    "    [269, 196, 456, 222, 168],\n",
    "    [125, 256, 333, 120, 125],\n",
    "    [1250, 256, 332, 120, 15]\n",
    "])\n",
    "result = maximize_accuracy(c)\n",
    "print(result)"
   ]
  }
 ],
 "metadata": {
  "kernelspec": {
   "display_name": "Python 3",
   "language": "python",
   "name": "python3"
  },
  "language_info": {
   "codemirror_mode": {
    "name": "ipython",
    "version": 3
   },
   "file_extension": ".py",
   "mimetype": "text/x-python",
   "name": "python",
   "nbconvert_exporter": "python",
   "pygments_lexer": "ipython3",
   "version": "3.11.2"
  }
 },
 "nbformat": 4,
 "nbformat_minor": 2
}
