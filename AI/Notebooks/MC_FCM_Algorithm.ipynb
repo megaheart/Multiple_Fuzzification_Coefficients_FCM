{
 "cells": [
  {
   "cell_type": "markdown",
   "metadata": {},
   "source": [
    "# sSMC FCM Algorithm and Experiment\n",
    "## Importing Libraries"
   ]
  },
  {
   "cell_type": "code",
   "execution_count": 1,
   "metadata": {},
   "outputs": [
    {
     "name": "stdout",
     "output_type": "stream",
     "text": [
      "c:\\Users\\linh2\\source\\repos\\Multiple_Fuzzification_Coefficients_FCM\n"
     ]
    }
   ],
   "source": [
    "import numpy as np\n",
    "import matplotlib.pyplot as plt\n",
    "import sklearn.preprocessing as pre\n",
    "import pandas as pd\n",
    "from sklearn.model_selection import train_test_split, KFold\n",
    "from sklearn.metrics import mean_squared_error, accuracy_score\n",
    "import math\n",
    "import os\n",
    "import sys\n",
    "\n",
    "path = os.path.dirname(os.path.abspath(\"\"))\n",
    "print(path)\n",
    "sys.path.append(path)"
   ]
  },
  {
   "cell_type": "code",
   "execution_count": 2,
   "metadata": {},
   "outputs": [],
   "source": [
    "from Components.Algorithms.sSMC_FCM import sSMC_FCM\n",
    "import Components.Cores.clusters_generations as cg"
   ]
  },
  {
   "cell_type": "markdown",
   "metadata": {},
   "source": [
    "## Test the sSMC FCM algorithm"
   ]
  },
  {
   "cell_type": "markdown",
   "metadata": {},
   "source": [
    "### Load the data"
   ]
  },
  {
   "cell_type": "code",
   "execution_count": 3,
   "metadata": {},
   "outputs": [],
   "source": [
    "data_path = path + \"/Data/iris.data\"\n",
    "dataframe = pd.read_csv(data_path)\n",
    "elements = dataframe.iloc[:, :-1].values\n",
    "label = dataframe.iloc[:, -1].values\n",
    "label = pre.LabelEncoder().fit_transform(label)\n",
    "C = len(np.unique(label))"
   ]
  },
  {
   "cell_type": "markdown",
   "metadata": {},
   "source": [
    "### Run the sSMC FCM algorithm"
   ]
  },
  {
   "cell_type": "code",
   "execution_count": 4,
   "metadata": {},
   "outputs": [
    {
     "name": "stdout",
     "output_type": "stream",
     "text": [
      "Number of unique labels in training, test and total data:  3 3\n"
     ]
    }
   ],
   "source": [
    "alg = sSMC_FCM()\n",
    "# prepare data\n",
    "X = elements\n",
    "Y = label"
   ]
  },
  {
   "cell_type": "code",
   "execution_count": 5,
   "metadata": {},
   "outputs": [
    {
     "ename": "ValueError",
     "evalue": "setting an array element with a sequence.",
     "output_type": "error",
     "traceback": [
      "\u001b[1;31m---------------------------------------------------------------------------\u001b[0m",
      "\u001b[1;31mTypeError\u001b[0m                                 Traceback (most recent call last)",
      "\u001b[1;31mTypeError\u001b[0m: float() argument must be a string or a real number, not 'list'",
      "\nThe above exception was the direct cause of the following exception:\n",
      "\u001b[1;31mValueError\u001b[0m                                Traceback (most recent call last)",
      "Cell \u001b[1;32mIn[5], line 15\u001b[0m\n\u001b[0;32m     12\u001b[0m alg\u001b[38;5;241m.\u001b[39mm2 \u001b[38;5;241m=\u001b[39m alg\u001b[38;5;241m.\u001b[39mcalculate_m2(alpha)\n\u001b[0;32m     14\u001b[0m \u001b[38;5;28;01mfor\u001b[39;00m l \u001b[38;5;129;01min\u001b[39;00m \u001b[38;5;28mrange\u001b[39m(max_iter):\n\u001b[1;32m---> 15\u001b[0m     alg\u001b[38;5;241m.\u001b[39mU \u001b[38;5;241m=\u001b[39m \u001b[43malg\u001b[49m\u001b[38;5;241;43m.\u001b[39;49m\u001b[43mupdate_U\u001b[49m\u001b[43m(\u001b[49m\u001b[43m)\u001b[49m\n\u001b[0;32m     16\u001b[0m     alg\u001b[38;5;241m.\u001b[39mV_old \u001b[38;5;241m=\u001b[39m alg\u001b[38;5;241m.\u001b[39mV\n\u001b[0;32m     17\u001b[0m     alg\u001b[38;5;241m.\u001b[39mV \u001b[38;5;241m=\u001b[39m alg\u001b[38;5;241m.\u001b[39mupdate_V()\n",
      "File \u001b[1;32mc:\\Users\\linh2\\source\\repos\\Multiple_Fuzzification_Coefficients_FCM\\Components\\Cores\\sSMC_FCM_Core.py:122\u001b[0m, in \u001b[0;36msSMC_FCM_Core.update_U\u001b[1;34m(self)\u001b[0m\n\u001b[0;32m    120\u001b[0m         eq_right \u001b[38;5;241m=\u001b[39m \u001b[38;5;241m1\u001b[39m \u001b[38;5;241m/\u001b[39m ((rm1 \u001b[38;5;241m*\u001b[39m d[k]) \u001b[38;5;241m*\u001b[39m\u001b[38;5;241m*\u001b[39m a2)\n\u001b[0;32m    121\u001b[0m         eq \u001b[38;5;241m=\u001b[39m sp\u001b[38;5;241m.\u001b[39mEq(mu_k_sym \u001b[38;5;241m/\u001b[39m ((mu_k_sym \u001b[38;5;241m+\u001b[39m sum_mu_not_k) \u001b[38;5;241m*\u001b[39m\u001b[38;5;241m*\u001b[39m a3) , eq_right)\n\u001b[1;32m--> 122\u001b[0m         \u001b[43mmu\u001b[49m\u001b[43m[\u001b[49m\u001b[43mk\u001b[49m\u001b[43m]\u001b[49m \u001b[38;5;241m=\u001b[39m sp\u001b[38;5;241m.\u001b[39msolve(eq, mu_k_sym)\n\u001b[0;32m    123\u001b[0m         U[i] \u001b[38;5;241m=\u001b[39m mu \u001b[38;5;241m/\u001b[39m np\u001b[38;5;241m.\u001b[39msum(mu)\n\u001b[0;32m    125\u001b[0m \u001b[38;5;28;01mreturn\u001b[39;00m U\n",
      "\u001b[1;31mValueError\u001b[0m: setting an array element with a sequence."
     ]
    }
   ],
   "source": [
    "# initialize variables; initialize U, V, m2\n",
    "print(\"Initializing variables\")\n",
    "N = X.shape[0]\n",
    "alg.X = X\n",
    "alg.C = C\n",
    "alg.U = np.zeros((N, C))\n",
    "alg.epsilon = 0.0001\n",
    "max_iter = 200\n",
    "print(\"Initializing cluster centers and m\")\n",
    "alg.m, alg.V = alg.generate_m_and_first_V(ml=1.1, mu=4.1)\n",
    "print(alg.m)\n",
    "\n",
    "print(\"Start solving the algorithm\")\n",
    "for l in range(max_iter):\n",
    "    alg.U = alg.update_U()\n",
    "    alg.V_old = alg.V\n",
    "    alg.V = alg.update_V()\n",
    "\n",
    "    pred_y = np.argmax(alg.U, axis=1)\n",
    "\n",
    "    accuracy = accuracy_score(Y, pred_y)\n",
    "    print(\"Iteration: \", l, \"Accuracy: \", accuracy)\n",
    "\n",
    "    if alg.is_converged():\n",
    "        break"
   ]
  }
 ],
 "metadata": {
  "kernelspec": {
   "display_name": "Python 3",
   "language": "python",
   "name": "python3"
  },
  "language_info": {
   "codemirror_mode": {
    "name": "ipython",
    "version": 3
   },
   "file_extension": ".py",
   "mimetype": "text/x-python",
   "name": "python",
   "nbconvert_exporter": "python",
   "pygments_lexer": "ipython3",
   "version": "3.11.2"
  }
 },
 "nbformat": 4,
 "nbformat_minor": 2
}
