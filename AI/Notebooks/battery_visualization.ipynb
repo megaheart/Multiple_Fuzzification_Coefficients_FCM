{
 "cells": [
  {
   "cell_type": "code",
   "execution_count": null,
   "metadata": {},
   "outputs": [],
   "source": [
    "import numpy as np\n",
    "import matplotlib.pyplot as plt\n",
    "import sklearn.preprocessing as pre\n",
    "import pandas as pd\n",
    "from sklearn.model_selection import train_test_split, KFold\n",
    "from sklearn.metrics import mean_squared_error, accuracy_score\n",
    "from sklearn.preprocessing import MinMaxScaler\n",
    "from torch.utils.data import DataLoader, Dataset\n",
    "import torch\n",
    "import math\n",
    "import time\n",
    "import random\n",
    "import os\n",
    "import sys"
   ]
  },
  {
   "cell_type": "code",
   "execution_count": null,
   "metadata": {},
   "outputs": [],
   "source": [
    "battery_data_path = './drive/MyDrive/data/battery_cycles.csv'\n",
    "\n",
    "dataframe = pd.read_csv(battery_data_path)"
   ]
  },
  {
   "cell_type": "code",
   "execution_count": null,
   "metadata": {},
   "outputs": [],
   "source": [
    "plt.figure(figsize=(25, 90))\n",
    "plt.subplots_adjust(hspace=0.4, wspace=0.15)\n",
    "\n",
    "for i in range(1, 125):\n",
    "    Qi = dataframe[dataframe['battery_order'] == i][[\"Qi\"]]\n",
    "    Qi = Qi.to_numpy()\n",
    "    cycles = range(0, len(Qi))\n",
    "\n",
    "    # Plot the results as line plot\n",
    "    plt.subplot(4, 31, i + 1)\n",
    "    plt.plot(cycles, Qi, label='Actual Qi', color='blue')\n",
    "    plt.xlabel('Cycle')\n",
    "    plt.ylabel('Qi')\n",
    "    plt.ylim(0, 1.5)\n",
    "    plt.title(f'Battery {i}')"
   ]
  }
 ],
 "metadata": {
  "kernelspec": {
   "display_name": "Python 3",
   "language": "python",
   "name": "python3"
  },
  "language_info": {
   "name": "python",
   "version": "3.11.2"
  }
 },
 "nbformat": 4,
 "nbformat_minor": 2
}
