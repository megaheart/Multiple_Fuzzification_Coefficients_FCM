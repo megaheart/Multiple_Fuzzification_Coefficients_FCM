{
 "cells": [
  {
   "cell_type": "code",
   "execution_count": 4,
   "metadata": {},
   "outputs": [
    {
     "name": "stdout",
     "output_type": "stream",
     "text": [
      "c:\\Users\\linh2\\source\\repos\\Multiple_Fuzzification_Coefficients_FCM\n"
     ]
    }
   ],
   "source": [
    "import numpy as np\n",
    "import matplotlib.pyplot as plt\n",
    "import sklearn.preprocessing as pre\n",
    "import pandas as pd\n",
    "from sklearn.model_selection import train_test_split, KFold\n",
    "from sklearn.metrics import mean_squared_error, accuracy_score\n",
    "from sklearn.preprocessing import MinMaxScaler\n",
    "import math\n",
    "import time\n",
    "import os\n",
    "import sys\n",
    "\n",
    "path = os.path.dirname(os.path.abspath(\"\"))\n",
    "print(path)\n",
    "sys.path.append(path)"
   ]
  },
  {
   "cell_type": "code",
   "execution_count": 5,
   "metadata": {},
   "outputs": [],
   "source": [
    "import Components.Cores.clusters_generations as cg\n",
    "from Components.Algorithms.sSMC_FCM import sSMC_FCM"
   ]
  },
  {
   "cell_type": "code",
   "execution_count": 10,
   "metadata": {},
   "outputs": [
    {
     "name": "stdout",
     "output_type": "stream",
     "text": [
      "Initializing variables\n",
      "Initialized cluster centers in  0.0  s\n",
      "Update U non_supervision in  0.0010001659393310547  s\n",
      "Initialized m2:  2  in  0.0  s\n",
      "Start solving the algorithm\n",
      "Iteration 0/5 completed in 0.0 s\n",
      "U, V calculation time consume: 0.0 s, 0.0 s\n",
      "Iteration 1/5 completed in 0.001505136489868164 s\n",
      "U, V calculation time consume: 0.0 s, 0.001505136489868164 s\n",
      "Iteration 2/5 completed in 0.0006589889526367188 s\n",
      "U, V calculation time consume: 0.0006589889526367188 s, 0.0 s\n",
      "Iteration 3/5 completed in 0.0 s\n",
      "U, V calculation time consume: 0.0 s, 0.0 s\n",
      "Iteration 4/5 completed in 0.0010056495666503906 s\n",
      "U, V calculation time consume: 0.0010056495666503906 s, 0.0 s\n",
      "Time consuming: 0.0031697750091552734 s\n"
     ]
    },
    {
     "data": {
      "image/png": "[encoded data removed]",
      "text/plain": [
       "<Figure size 640x480 with 1 Axes>"
      ]
     },
     "metadata": {},
     "output_type": "display_data"
    }
   ],
   "source": [
    "C = 3\n",
    "\n",
    "X = np.array([1.1, 1.3, 2, 3.2, 3.6, 4.2, 6.0, 6.6, 7.0, 7.4])\n",
    "Y = np.array([1, 1.5, 1.2, 3.8, 3.4, 3.6, 2.5, 2.8, 2.0, 2.5])\n",
    "N = len(X)\n",
    "\n",
    "# ### Run the sSMC FCM algorithm\n",
    "alg = sSMC_FCM()\n",
    "\n",
    "# initialize variables; initialize U, V, m2\n",
    "print(\"Initializing variables\")\n",
    "max_iter = 5\n",
    "alpha = 0.5\n",
    "alg.X = X\n",
    "alg.X = alg.X.reshape(-1, 1)\n",
    "alg.Y = np.array([0, 0, np.nan, 1, 1, np.nan, np.nan, 2, 2, np.nan])\n",
    "alg.U = np.zeros((N, C))\n",
    "alg.m = 2\n",
    "alg.epsilon = 0.0001\n",
    "total_count_time = time.time()\n",
    "alg.V = cg.sSMC_FCM_kmean_plus_plus(alg.X, alg.Y, C, alg.distance_fn, alg.lnorm)\n",
    "total_count_time = time.time() - total_count_time\n",
    "print(\"Initialized cluster centers in \", total_count_time, \" s\")\n",
    "\n",
    "total_count_time = time.time()\n",
    "alg.U = alg.update_U_non_supervision()\n",
    "total_count_time = time.time() - total_count_time\n",
    "print(\"Update U non_supervision in \", total_count_time, \" s\")\n",
    "\n",
    "total_count_time = time.time()\n",
    "alg.m2 = alg.calculate_m2(alpha)\n",
    "total_count_time = time.time() - total_count_time\n",
    "print(\"Initialized m2: \", alg.m2, \" in \", total_count_time, \" s\")\n",
    "\n",
    "total_count_time = time.time()\n",
    "print(\"Start solving the algorithm\")\n",
    "for l in range(max_iter):\n",
    "    count_time = time.time()\n",
    "    alg.U = alg.update_U()\n",
    "    U_count_time = time.time() - count_time\n",
    "\n",
    "    alg.V_old = alg.V\n",
    "\n",
    "    count_time = time.time()\n",
    "    alg.V = alg.update_V()\n",
    "    V_count_time = time.time() - count_time\n",
    "\n",
    "    print(f\"Iteration {l}/{max_iter} completed in {U_count_time + V_count_time} s\")\n",
    "    print(f\"U, V calculation time consume: {U_count_time} s, {V_count_time} s\")\n",
    "\n",
    "    if alg.is_converged():\n",
    "        break\n",
    "total_count_time = time.time() - total_count_time\n",
    "print(f\"Time consuming: {total_count_time} s\")\n",
    "\n",
    "pred_y = np.argmax(alg.U, axis=1)\n",
    "color_clusters = ['r', 'g', 'b']\n",
    "\n",
    "plt.xlabel('Cycle')\n",
    "plt.ylabel('Qi')\n",
    "\n",
    "for i in range(N):\n",
    "    plt.scatter(X[i], Y[i], color=color_clusters[pred_y[i]])\n",
    "\n",
    "plt.show()"
   ]
  }
 ],
 "metadata": {
  "kernelspec": {
   "display_name": "Python 3",
   "language": "python",
   "name": "python3"
  },
  "language_info": {
   "codemirror_mode": {
    "name": "ipython",
    "version": 3
   },
   "file_extension": ".py",
   "mimetype": "text/x-python",
   "name": "python",
   "nbconvert_exporter": "python",
   "pygments_lexer": "ipython3",
   "version": "3.11.2"
  }
 },
 "nbformat": 4,
 "nbformat_minor": 2
}
